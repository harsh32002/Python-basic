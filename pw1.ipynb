{
  "nbformat": 4,
  "nbformat_minor": 0,
  "metadata": {
    "colab": {
      "provenance": []
    },
    "kernelspec": {
      "name": "python3",
      "display_name": "Python 3"
    },
    "language_info": {
      "name": "python"
    }
  },
  "cells": [
    {
      "cell_type": "code",
      "execution_count": null,
      "metadata": {
        "id": "botguta0PCPM"
      },
      "outputs": [],
      "source": []
    },
    {
      "cell_type": "markdown",
      "source": [
        "1 What is Python, and why is it popular"
      ],
      "metadata": {
        "id": "dhbkfCqCR_eS"
      }
    },
    {
      "cell_type": "markdown",
      "source": [
        "Python is a programming language which is used to develop the application has various function and libraries.it is popular because it is easy to learn has the standard library used in many field in automation data analysis tool etc"
      ],
      "metadata": {
        "id": "6LHzyxSsPw9H"
      }
    },
    {
      "cell_type": "markdown",
      "source": [
        "What is an interpreter in Python"
      ],
      "metadata": {
        "id": "IAjNQI6hSd7X"
      }
    },
    {
      "cell_type": "markdown",
      "source": [
        "A Python interpreter is a program that reads and executes Python code line by line. It converts the high-level Python instructions into machine code that the computer can understand at runtime.\n",
        "\n"
      ],
      "metadata": {
        "id": "QwQma6mCVenf"
      }
    },
    {
      "cell_type": "markdown",
      "source": [
        "What are pre-defined keywords in Python"
      ],
      "metadata": {
        "id": "ZdTra7VdVx4p"
      }
    },
    {
      "cell_type": "markdown",
      "source": [
        "Keywords in Python are special reserved words that have specific meanings and cannot be used as variable names, function names, or identifiers."
      ],
      "metadata": {
        "id": "iLytyFMCV3CY"
      }
    },
    {
      "cell_type": "markdown",
      "source": [
        "Can keywords be used as variable names\n"
      ],
      "metadata": {
        "id": "SMH_MlibWNay"
      }
    },
    {
      "cell_type": "markdown",
      "source": [
        "no kewords cannot use as variable name they are the reserved words.\n"
      ],
      "metadata": {
        "id": "Bo22TZmOWRWC"
      }
    },
    {
      "cell_type": "markdown",
      "source": [
        "What is mutability in Python"
      ],
      "metadata": {
        "id": "UMmjEtH6Wj2e"
      }
    },
    {
      "cell_type": "markdown",
      "source": [
        "it is those in which the value can change after assign the value in variable some data structure like list,set,dictionary are example.\n"
      ],
      "metadata": {
        "id": "vsCakZppWo9G"
      }
    },
    {
      "cell_type": "markdown",
      "source": [
        "Why are lists mutable, but tuples are immutable"
      ],
      "metadata": {
        "id": "-kkFa0GOXEMg"
      }
    },
    {
      "cell_type": "markdown",
      "source": [
        "list are mutuble because value can be change in list but in tuple the value cannot be changed after define"
      ],
      "metadata": {
        "id": "cIEjgoAIXgGD"
      }
    },
    {
      "cell_type": "markdown",
      "source": [
        " What is the difference between “==” and “is” operators in Python"
      ],
      "metadata": {
        "id": "SSPpAml6aDN7"
      }
    },
    {
      "cell_type": "markdown",
      "source": [],
      "metadata": {
        "id": "pLB7WXhYcWUl"
      }
    },
    {
      "cell_type": "markdown",
      "source": [
        "== is the asiggnment operatore it is used to assign  valueth and is the identity operator to check the identity."
      ],
      "metadata": {
        "id": "esg-f1rGaYfT"
      }
    },
    {
      "cell_type": "markdown",
      "source": [
        "What are logical operators in Python"
      ],
      "metadata": {
        "id": "hCzQ6v_Ca1it"
      }
    },
    {
      "cell_type": "markdown",
      "source": [
        "Logical operators are used to combine multiple conditions. They return either True or False. and or not are logical operator.\n",
        "\n"
      ],
      "metadata": {
        "id": "KVBBOeePa26f"
      }
    },
    {
      "cell_type": "markdown",
      "source": [
        "What is type casting in Python"
      ],
      "metadata": {
        "id": "t1zY-11cbhu2"
      }
    },
    {
      "cell_type": "markdown",
      "source": [
        "Type casting means converting one data type to another.we can change data type from one data type to another."
      ],
      "metadata": {
        "id": "vtvJwNfgbkTj"
      }
    },
    {
      "cell_type": "markdown",
      "source": [
        "What is the difference between implicit and explicit type casting"
      ],
      "metadata": {
        "id": "1IpV1jJMcb2A"
      }
    },
    {
      "cell_type": "markdown",
      "source": [
        "Type Casting is the process of converting the value of one data type to another.It is automatically performed by Python. in implicit Python converts smaller data types to larger data types to avoid data loss. tn explicit It is done manually by the programmer using functions like int, float, st rUseful when you want to forcefully convert data types.May lead to data loss or errors if not done properly."
      ],
      "metadata": {
        "id": "oQT5pEKhcdSH"
      }
    },
    {
      "cell_type": "markdown",
      "source": [
        "What is the purpose of conditional statements in Python"
      ],
      "metadata": {
        "id": "yyEC2U1zucjm"
      }
    },
    {
      "cell_type": "markdown",
      "source": [
        "it is used in python program to take decision they allow program to excecute the code of block if it is true.if – checks a condition and runs the block if  it is true run the code\n",
        "if-else it runs one block if true, another if false\n",
        "if-elif-else it checks multiple conditions in sequence\n",
        "\n",
        "> Add blockquote\n",
        "\n"
      ],
      "metadata": {
        "id": "7kQZD0c5umK7"
      }
    },
    {
      "cell_type": "markdown",
      "source": [
        "How does the elif statement work"
      ],
      "metadata": {
        "id": "k0_lmfSdvb39"
      }
    },
    {
      "cell_type": "markdown",
      "source": [
        "this statement in Python is used to check multiple conditions after an if condition."
      ],
      "metadata": {
        "id": "OFAUFeYivi11"
      }
    },
    {
      "cell_type": "markdown",
      "source": [
        "What is the difference between for and while loops"
      ],
      "metadata": {
        "id": "eKroTBFPwNHB"
      }
    },
    {
      "cell_type": "markdown",
      "source": [
        "llop are used to run th code multiple times there are two types of loop for loop and while loopUsed when you know in advance how many times you want to run the loop.\n",
        "for loop is used when we know how much we want to run the code\n",
        "for loop Syntax:\n",
        "for i in range(5):\n",
        "    print(i)    while Loop\n",
        "  while loop it is Used when you do not know the number of iterations in advance.\n",
        "Syntax:\n",
        "i = 0\n",
        "while i < 5:\n",
        "    print(i)\n",
        "    i += 1"
      ],
      "metadata": {
        "id": "dTmF5_E5wYDX"
      }
    },
    {
      "cell_type": "markdown",
      "source": [
        " Describe a scenario where a while loop is more suitable than a for loop"
      ],
      "metadata": {
        "id": "kaYrdQcoyQOV"
      }
    },
    {
      "cell_type": "markdown",
      "source": [],
      "metadata": {
        "id": "AtHJGMVSyeMg"
      }
    },
    {
      "cell_type": "markdown",
      "source": [
        "A while loop is more suitable when we do not know in advance how many times the loop should run  the number of iterations depends on a condition that may change during execution."
      ],
      "metadata": {
        "id": "xTY1qd2pyely"
      }
    },
    {
      "cell_type": "markdown",
      "source": [],
      "metadata": {
        "id": "ep1KqoAuXcyY"
      }
    },
    {
      "cell_type": "markdown",
      "source": [
        "Write a Python program to print \"Hello, World!"
      ],
      "metadata": {
        "id": "SkIuYxr1zIG-"
      }
    },
    {
      "cell_type": "code",
      "source": [
        "a= \"Hello World!\"\n",
        "print(a)"
      ],
      "metadata": {
        "colab": {
          "base_uri": "https://localhost:8080/"
        },
        "id": "31_yVTMEzKHB",
        "outputId": "5b3fa355-3fcf-43b8-9ab3-48937a3d317b"
      },
      "execution_count": null,
      "outputs": [
        {
          "output_type": "stream",
          "name": "stdout",
          "text": [
            "Hello World\n"
          ]
        }
      ]
    },
    {
      "cell_type": "markdown",
      "source": [],
      "metadata": {
        "id": "FSGEqlaV5jjw"
      }
    },
    {
      "cell_type": "markdown",
      "source": [
        "Write a Python program that displays your name and age8"
      ],
      "metadata": {
        "id": "MpL2fRU20KI7"
      }
    },
    {
      "cell_type": "code",
      "source": [
        "name=input(\"Enter the name \")\n",
        "age=input(\"Enter the age \")\n",
        "print(\"Name=\", name, \"Age=\",age)"
      ],
      "metadata": {
        "id": "NE4CU9Dq0LVW",
        "colab": {
          "base_uri": "https://localhost:8080/"
        },
        "outputId": "49e208a2-0dbb-4e1d-a024-d95e4a1bc5cb"
      },
      "execution_count": 13,
      "outputs": [
        {
          "output_type": "stream",
          "name": "stdout",
          "text": [
            "Enter the name harsh\n",
            "Enter the age 23\n",
            "Name= harsh Age= 23\n"
          ]
        }
      ]
    },
    {
      "cell_type": "markdown",
      "source": [
        "Write code to print all the pre-defined keywords in Python using the keyword library"
      ],
      "metadata": {
        "id": "SIW9-RhV2zPd"
      }
    },
    {
      "cell_type": "code",
      "source": [
        "import keyword\n",
        "kw_list = keyword.kwlist\n",
        "\n",
        "print(\"Python keywords:\")\n",
        "for kw in kw_list:\n",
        "    print(kw)"
      ],
      "metadata": {
        "id": "JmneOlrt3Uel",
        "colab": {
          "base_uri": "https://localhost:8080/"
        },
        "outputId": "844c6ed2-55e9-498a-acd6-d6cf7ede6b95"
      },
      "execution_count": 14,
      "outputs": [
        {
          "output_type": "stream",
          "name": "stdout",
          "text": [
            "Python keywords:\n",
            "False\n",
            "None\n",
            "True\n",
            "and\n",
            "as\n",
            "assert\n",
            "async\n",
            "await\n",
            "break\n",
            "class\n",
            "continue\n",
            "def\n",
            "del\n",
            "elif\n",
            "else\n",
            "except\n",
            "finally\n",
            "for\n",
            "from\n",
            "global\n",
            "if\n",
            "import\n",
            "in\n",
            "is\n",
            "lambda\n",
            "nonlocal\n",
            "not\n",
            "or\n",
            "pass\n",
            "raise\n",
            "return\n",
            "try\n",
            "while\n",
            "with\n",
            "yield\n"
          ]
        }
      ]
    },
    {
      "cell_type": "markdown",
      "source": [
        "Write a program that checks if a given word is a Python keyword.\n"
      ],
      "metadata": {
        "id": "d6LJRumN6I1X"
      }
    },
    {
      "cell_type": "code",
      "source": [
        "import keyword\n",
        "\n",
        "word = input(\"Enter a word to check: \")\n",
        "if keyword.iskeyword(word):\n",
        "    print(f\"'{word}' is a Python keyword.\")\n",
        "else:\n",
        "    print(f\"'{word}' is NOT a Python keyword.\")"
      ],
      "metadata": {
        "id": "F85Vbh7R6KFr"
      },
      "execution_count": null,
      "outputs": []
    },
    {
      "cell_type": "markdown",
      "source": [
        "Create a list and tuple in Python, and demonstrate how attempting to change an element works differently\n",
        "for each"
      ],
      "metadata": {
        "id": "fvHewOry6jG-"
      }
    },
    {
      "cell_type": "code",
      "source": [
        "my_list = [1, 2, 3]\n",
        "my_tuple = (1, 2, 3)\n",
        "\n",
        "print(\"Original list:\", my_list)\n",
        "my_list[1] = 99\n",
        "print(\"Modified list:\", my_list)\n",
        "print(\"Original tuple:\", my_tuple)\n"
      ],
      "metadata": {
        "id": "y-dDtXRI6xmi"
      },
      "execution_count": null,
      "outputs": []
    },
    {
      "cell_type": "markdown",
      "source": [],
      "metadata": {
        "id": "c2xNWzzC0Ilx"
      }
    },
    {
      "cell_type": "markdown",
      "source": [
        " Write a function to demonstrate the behavior of mutable and immutable arguments."
      ],
      "metadata": {
        "id": "817KHali7K9_"
      }
    },
    {
      "cell_type": "code",
      "source": [
        "\n",
        "x = 50\n",
        "lst = [1, 2, 3]\n",
        "\n",
        "print(\"Before function call:\")\n",
        "print(\"x =\", x)\n",
        "print(\"lst =\", lst)\n",
        "\n",
        "modify_values(x, lst)\n",
        "\n",
        "print(\"\\nAfter function call:\")\n",
        "print(\"x =\", x)\n",
        "print(\"lst =\", lst)"
      ],
      "metadata": {
        "id": "OJF9p1Fp7hFG"
      },
      "execution_count": null,
      "outputs": []
    },
    {
      "cell_type": "markdown",
      "source": [
        " Write a program that performs basic arithmetic operations on two user-input numbers."
      ],
      "metadata": {
        "id": "Irfo-EyQ7zmW"
      }
    },
    {
      "cell_type": "code",
      "source": [
        "num1 = float(input(\"Enter first number: \"))\n",
        "num2 = float(input(\"Enter second number: \"))\n",
        "\n",
        "print(\"\\n--- Arithmetic Operations ---\")\n",
        "print(f\"Addition:{num1} + {num2} = {num1 + num2}\")\n",
        "print(f\"Subtraction:{num1} - {num2} = {num1 - num2}\")\n",
        "print(f\"Multiplication:{num1} * {num2} = {num1 * num2}\")\n",
        "\n",
        "if num2 != 0:\n",
        "    print(f\"Division:{num1} / {num2} = {num1 / num2}\")\n",
        "else:\n",
        "    print(\"Division:Cannot divide by zero.\")\n"
      ],
      "metadata": {
        "id": "sVaD20fh8FiF"
      },
      "execution_count": null,
      "outputs": []
    },
    {
      "cell_type": "markdown",
      "source": [
        ". Write a program to demonstrate the use of logical operators."
      ],
      "metadata": {
        "id": "Kuqhlk118Os6"
      }
    },
    {
      "cell_type": "code",
      "source": [
        "x = int(input(\"Enter first number: \"))\n",
        "y = int(input(\"Enter second number: \"))\n",
        "\n",
        "print(\"\\n--- Logical Operators Demo ---\")\n",
        "print(\"x > 5 and y > 5:\", x > 5 and y > 5)\n",
        "print(\"x > 5 or y > 5:\", x > 5 or y > 5)\n",
        "print(\"not(x > 5):\", not(x > 5))\n"
      ],
      "metadata": {
        "id": "owOyjIpY8ebh"
      },
      "execution_count": null,
      "outputs": []
    },
    {
      "cell_type": "markdown",
      "source": [
        "Write a Python program to convert user input from string to integer, float, and boolean types."
      ],
      "metadata": {
        "id": "xw3tPFxN8hAA"
      }
    },
    {
      "cell_type": "code",
      "source": [
        "value = input(\"Enter a value: \")\n",
        "\n",
        "int_value = int(value)\n",
        "float_value = float(value)\n",
        "bool_value = bool(value)\n",
        "\n",
        "print(\"\\n--- Converted Values ---\")\n",
        "print(\"As Integer:\", int_value)\n",
        "print(\"As Float:\", float_value)\n",
        "print(\"As Boolean:\", bool_value)\n"
      ],
      "metadata": {
        "id": "RZTE2cu18mEz"
      },
      "execution_count": null,
      "outputs": []
    },
    {
      "cell_type": "markdown",
      "source": [
        " Write code to demonstrate type casting with list elements."
      ],
      "metadata": {
        "id": "p0LiEvZQ80dl"
      }
    },
    {
      "cell_type": "code",
      "source": [
        "string_list = [\"10\", \"20\", \"30\", \"40\"]\n",
        "\n",
        "int_list = [int(x) for x in string_list]\n",
        "float_list = [float(x) for x in string_list]\n",
        "bool_list = [bool(x) for x in string_list]\n",
        "\n",
        "print(\"Original list (strings):\", string_list)\n",
        "print(\"Converted to integers:\", int_list)\n",
        "print(\"Converted to floats:\", float_list)\n",
        "print(\"Converted to booleans:\", bool_list)\n"
      ],
      "metadata": {
        "id": "ghHlsZJv89ll"
      },
      "execution_count": null,
      "outputs": []
    },
    {
      "cell_type": "markdown",
      "source": [
        "Write a program that checks if a number is positive, negative, or zero"
      ],
      "metadata": {
        "id": "iJS6MSkE9B86"
      }
    },
    {
      "cell_type": "code",
      "source": [
        "num = float(input(\"Enter a number: \"))\n",
        "\n",
        "if num > 0:\n",
        "    print(\"The number is positive.\")\n",
        "elif num < 0:\n",
        "    print(\"The number is negative.\")\n",
        "else:\n",
        "    print(\"The number is zero.\")\n"
      ],
      "metadata": {
        "id": "RpbFGlgv9F_M"
      },
      "execution_count": null,
      "outputs": []
    },
    {
      "cell_type": "markdown",
      "source": [
        " Write a for loop to print numbers from 1 to 10"
      ],
      "metadata": {
        "id": "w15OGTgR9IYX"
      }
    },
    {
      "cell_type": "code",
      "source": [
        "for i in range(1, 11):\n",
        "    print(i)\n"
      ],
      "metadata": {
        "id": "OG8l9YxE9Vk4"
      },
      "execution_count": null,
      "outputs": []
    },
    {
      "cell_type": "markdown",
      "source": [
        " Write a Python program to find the sum of all even numbers between 1 and 50"
      ],
      "metadata": {
        "id": "hWwIIETa9cFf"
      }
    },
    {
      "cell_type": "code",
      "source": [
        "total = 0\n",
        "\n",
        "for i in range(2, 51, 2):\n",
        "    total += i\n",
        "\n",
        "print(\"Sum of even numbers from 1 to 50 is:\", total)\n"
      ],
      "metadata": {
        "id": "z7CX_z1-9dz_"
      },
      "execution_count": null,
      "outputs": []
    },
    {
      "cell_type": "markdown",
      "source": [
        " Write a program to reverse a string using a while loop."
      ],
      "metadata": {
        "id": "TE62B6Hl9tJO"
      }
    },
    {
      "cell_type": "code",
      "source": [
        "text = input(\"Enter a string: \")\n",
        "reversed_text = \"\"\n",
        "\n",
        "i = len(text) - 1\n",
        "\n",
        "while i >= 0:\n",
        "    reversed_text += text[i]\n",
        "    i -= 1\n",
        "\n",
        "print(\"Reversed string:\", reversed_text)\n"
      ],
      "metadata": {
        "id": "wETptqcY9uUB"
      },
      "execution_count": null,
      "outputs": []
    },
    {
      "cell_type": "markdown",
      "source": [
        "Write a Python program to calculate the factorial of a number provided by the user using a while loop."
      ],
      "metadata": {
        "id": "4ILB_oUV9385"
      }
    },
    {
      "cell_type": "code",
      "source": [
        "num = int(input(\"Enter a number: \"))\n",
        "fact = 1\n",
        "i = 1\n",
        "\n",
        "while i <= num:\n",
        "    fact *= i\n",
        "    i += 1\n",
        "\n",
        "print(\"Factorial of\", num, \"is\", fact)\n"
      ],
      "metadata": {
        "id": "iu3JG_Av980e"
      },
      "execution_count": null,
      "outputs": []
    },
    {
      "cell_type": "markdown",
      "source": [],
      "metadata": {
        "id": "ra1M7jfu9kRt"
      }
    },
    {
      "cell_type": "markdown",
      "source": [],
      "metadata": {
        "id": "Rf2wlqINua5x"
      }
    },
    {
      "cell_type": "markdown",
      "source": [],
      "metadata": {
        "id": "_CkjZnFgXbkV"
      }
    },
    {
      "cell_type": "markdown",
      "source": [],
      "metadata": {
        "id": "2EN146G7Xad2"
      }
    },
    {
      "cell_type": "markdown",
      "source": [],
      "metadata": {
        "id": "b3RYBoyMXY6W"
      }
    },
    {
      "cell_type": "markdown",
      "source": [],
      "metadata": {
        "id": "hYBwKNH2Vaj-"
      }
    },
    {
      "cell_type": "markdown",
      "source": [],
      "metadata": {
        "id": "mRcbyI70VdcU"
      }
    },
    {
      "cell_type": "markdown",
      "source": [],
      "metadata": {
        "id": "-Eov3hPiSjha"
      }
    },
    {
      "cell_type": "markdown",
      "source": [],
      "metadata": {
        "id": "78K24tJpSZ0P"
      }
    },
    {
      "cell_type": "markdown",
      "source": [],
      "metadata": {
        "id": "8aI4w_BkSh1C"
      }
    },
    {
      "cell_type": "markdown",
      "source": [],
      "metadata": {
        "id": "RdQwMuRQSUKl"
      }
    },
    {
      "cell_type": "markdown",
      "source": [],
      "metadata": {
        "id": "a03chQz_SLOF"
      }
    },
    {
      "cell_type": "markdown",
      "source": [],
      "metadata": {
        "id": "NkngabwgQrPP"
      }
    },
    {
      "cell_type": "markdown",
      "source": [],
      "metadata": {
        "id": "jma1JYlTPuaV"
      }
    }
  ]
}